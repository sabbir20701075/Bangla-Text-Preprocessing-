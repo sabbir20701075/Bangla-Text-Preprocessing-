{
  "nbformat": 4,
  "nbformat_minor": 0,
  "metadata": {
    "colab": {
      "provenance": [],
      "authorship_tag": "ABX9TyPN3Dcq815AlgmIbToTjP88",
      "include_colab_link": true
    },
    "kernelspec": {
      "name": "python3",
      "display_name": "Python 3"
    },
    "language_info": {
      "name": "python"
    }
  },
  "cells": [
    {
      "cell_type": "markdown",
      "metadata": {
        "id": "view-in-github",
        "colab_type": "text"
      },
      "source": [
        "<a href=\"https://colab.research.google.com/github/sabbir20701075/Bangla-Text-Preprocessing-/blob/main/Bangla_Text_Preprocessing.ipynb\" target=\"_parent\"><img src=\"https://colab.research.google.com/assets/colab-badge.svg\" alt=\"Open In Colab\"/></a>"
      ]
    },
    {
      "cell_type": "code",
      "execution_count": 1,
      "metadata": {
        "id": "hGcB8-7gt3NW"
      },
      "outputs": [],
      "source": [
        "import numpy as np # linear algebra\n",
        "import pandas as pd # data processing, CSV file I/O (e.g. pd.read_csv)\n",
        "import matplotlib.pyplot as plt\n"
      ]
    },
    {
      "cell_type": "code",
      "source": [
        "from nltk.corpus import stopwords\n",
        "import nltk\n",
        "import re\n",
        "from nltk.stem import WordNetLemmatizer\n",
        "import string\n",
        "from nltk.tokenize import word_tokenize\n",
        "nltk.download('punkt')"
      ],
      "metadata": {
        "colab": {
          "base_uri": "https://localhost:8080/"
        },
        "id": "diHnHI4n9R_8",
        "outputId": "47ad6bb1-81e4-47a7-fe0a-70f3f3be2225"
      },
      "execution_count": 2,
      "outputs": [
        {
          "output_type": "stream",
          "name": "stderr",
          "text": [
            "[nltk_data] Downloading package punkt to /root/nltk_data...\n",
            "[nltk_data]   Unzipping tokenizers/punkt.zip.\n"
          ]
        },
        {
          "output_type": "execute_result",
          "data": {
            "text/plain": [
              "True"
            ]
          },
          "metadata": {},
          "execution_count": 2
        }
      ]
    },
    {
      "cell_type": "code",
      "execution_count": 3,
      "metadata": {
        "colab": {
          "base_uri": "https://localhost:8080/",
          "height": 93
        },
        "id": "5gq_OQYOwnRg",
        "outputId": "0b5d1a54-c611-4de1-ec50-fc3ab3076648"
      },
      "outputs": [
        {
          "output_type": "display_data",
          "data": {
            "text/plain": [
              "<IPython.core.display.HTML object>"
            ],
            "text/html": [
              "\n",
              "     <input type=\"file\" id=\"files-93f6b0b6-4314-44f8-ab39-e3b726245a6d\" name=\"files[]\" multiple disabled\n",
              "        style=\"border:none\" />\n",
              "     <output id=\"result-93f6b0b6-4314-44f8-ab39-e3b726245a6d\">\n",
              "      Upload widget is only available when the cell has been executed in the\n",
              "      current browser session. Please rerun this cell to enable.\n",
              "      </output>\n",
              "      <script>// Copyright 2017 Google LLC\n",
              "//\n",
              "// Licensed under the Apache License, Version 2.0 (the \"License\");\n",
              "// you may not use this file except in compliance with the License.\n",
              "// You may obtain a copy of the License at\n",
              "//\n",
              "//      http://www.apache.org/licenses/LICENSE-2.0\n",
              "//\n",
              "// Unless required by applicable law or agreed to in writing, software\n",
              "// distributed under the License is distributed on an \"AS IS\" BASIS,\n",
              "// WITHOUT WARRANTIES OR CONDITIONS OF ANY KIND, either express or implied.\n",
              "// See the License for the specific language governing permissions and\n",
              "// limitations under the License.\n",
              "\n",
              "/**\n",
              " * @fileoverview Helpers for google.colab Python module.\n",
              " */\n",
              "(function(scope) {\n",
              "function span(text, styleAttributes = {}) {\n",
              "  const element = document.createElement('span');\n",
              "  element.textContent = text;\n",
              "  for (const key of Object.keys(styleAttributes)) {\n",
              "    element.style[key] = styleAttributes[key];\n",
              "  }\n",
              "  return element;\n",
              "}\n",
              "\n",
              "// Max number of bytes which will be uploaded at a time.\n",
              "const MAX_PAYLOAD_SIZE = 100 * 1024;\n",
              "\n",
              "function _uploadFiles(inputId, outputId) {\n",
              "  const steps = uploadFilesStep(inputId, outputId);\n",
              "  const outputElement = document.getElementById(outputId);\n",
              "  // Cache steps on the outputElement to make it available for the next call\n",
              "  // to uploadFilesContinue from Python.\n",
              "  outputElement.steps = steps;\n",
              "\n",
              "  return _uploadFilesContinue(outputId);\n",
              "}\n",
              "\n",
              "// This is roughly an async generator (not supported in the browser yet),\n",
              "// where there are multiple asynchronous steps and the Python side is going\n",
              "// to poll for completion of each step.\n",
              "// This uses a Promise to block the python side on completion of each step,\n",
              "// then passes the result of the previous step as the input to the next step.\n",
              "function _uploadFilesContinue(outputId) {\n",
              "  const outputElement = document.getElementById(outputId);\n",
              "  const steps = outputElement.steps;\n",
              "\n",
              "  const next = steps.next(outputElement.lastPromiseValue);\n",
              "  return Promise.resolve(next.value.promise).then((value) => {\n",
              "    // Cache the last promise value to make it available to the next\n",
              "    // step of the generator.\n",
              "    outputElement.lastPromiseValue = value;\n",
              "    return next.value.response;\n",
              "  });\n",
              "}\n",
              "\n",
              "/**\n",
              " * Generator function which is called between each async step of the upload\n",
              " * process.\n",
              " * @param {string} inputId Element ID of the input file picker element.\n",
              " * @param {string} outputId Element ID of the output display.\n",
              " * @return {!Iterable<!Object>} Iterable of next steps.\n",
              " */\n",
              "function* uploadFilesStep(inputId, outputId) {\n",
              "  const inputElement = document.getElementById(inputId);\n",
              "  inputElement.disabled = false;\n",
              "\n",
              "  const outputElement = document.getElementById(outputId);\n",
              "  outputElement.innerHTML = '';\n",
              "\n",
              "  const pickedPromise = new Promise((resolve) => {\n",
              "    inputElement.addEventListener('change', (e) => {\n",
              "      resolve(e.target.files);\n",
              "    });\n",
              "  });\n",
              "\n",
              "  const cancel = document.createElement('button');\n",
              "  inputElement.parentElement.appendChild(cancel);\n",
              "  cancel.textContent = 'Cancel upload';\n",
              "  const cancelPromise = new Promise((resolve) => {\n",
              "    cancel.onclick = () => {\n",
              "      resolve(null);\n",
              "    };\n",
              "  });\n",
              "\n",
              "  // Wait for the user to pick the files.\n",
              "  const files = yield {\n",
              "    promise: Promise.race([pickedPromise, cancelPromise]),\n",
              "    response: {\n",
              "      action: 'starting',\n",
              "    }\n",
              "  };\n",
              "\n",
              "  cancel.remove();\n",
              "\n",
              "  // Disable the input element since further picks are not allowed.\n",
              "  inputElement.disabled = true;\n",
              "\n",
              "  if (!files) {\n",
              "    return {\n",
              "      response: {\n",
              "        action: 'complete',\n",
              "      }\n",
              "    };\n",
              "  }\n",
              "\n",
              "  for (const file of files) {\n",
              "    const li = document.createElement('li');\n",
              "    li.append(span(file.name, {fontWeight: 'bold'}));\n",
              "    li.append(span(\n",
              "        `(${file.type || 'n/a'}) - ${file.size} bytes, ` +\n",
              "        `last modified: ${\n",
              "            file.lastModifiedDate ? file.lastModifiedDate.toLocaleDateString() :\n",
              "                                    'n/a'} - `));\n",
              "    const percent = span('0% done');\n",
              "    li.appendChild(percent);\n",
              "\n",
              "    outputElement.appendChild(li);\n",
              "\n",
              "    const fileDataPromise = new Promise((resolve) => {\n",
              "      const reader = new FileReader();\n",
              "      reader.onload = (e) => {\n",
              "        resolve(e.target.result);\n",
              "      };\n",
              "      reader.readAsArrayBuffer(file);\n",
              "    });\n",
              "    // Wait for the data to be ready.\n",
              "    let fileData = yield {\n",
              "      promise: fileDataPromise,\n",
              "      response: {\n",
              "        action: 'continue',\n",
              "      }\n",
              "    };\n",
              "\n",
              "    // Use a chunked sending to avoid message size limits. See b/62115660.\n",
              "    let position = 0;\n",
              "    do {\n",
              "      const length = Math.min(fileData.byteLength - position, MAX_PAYLOAD_SIZE);\n",
              "      const chunk = new Uint8Array(fileData, position, length);\n",
              "      position += length;\n",
              "\n",
              "      const base64 = btoa(String.fromCharCode.apply(null, chunk));\n",
              "      yield {\n",
              "        response: {\n",
              "          action: 'append',\n",
              "          file: file.name,\n",
              "          data: base64,\n",
              "        },\n",
              "      };\n",
              "\n",
              "      let percentDone = fileData.byteLength === 0 ?\n",
              "          100 :\n",
              "          Math.round((position / fileData.byteLength) * 100);\n",
              "      percent.textContent = `${percentDone}% done`;\n",
              "\n",
              "    } while (position < fileData.byteLength);\n",
              "  }\n",
              "\n",
              "  // All done.\n",
              "  yield {\n",
              "    response: {\n",
              "      action: 'complete',\n",
              "    }\n",
              "  };\n",
              "}\n",
              "\n",
              "scope.google = scope.google || {};\n",
              "scope.google.colab = scope.google.colab || {};\n",
              "scope.google.colab._files = {\n",
              "  _uploadFiles,\n",
              "  _uploadFilesContinue,\n",
              "};\n",
              "})(self);\n",
              "</script> "
            ]
          },
          "metadata": {}
        },
        {
          "output_type": "stream",
          "name": "stdout",
          "text": [
            "Saving stopwords_bangla.xlsx to stopwords_bangla.xlsx\n"
          ]
        }
      ],
      "source": [
        "from google.colab import files  # Only necessary if using Google Colab\n",
        "\n",
        "# Upload the files\n",
        "uploaded = files.upload()  # This will prompt you to select files from your computer\n"
      ]
    },
    {
      "cell_type": "markdown",
      "source": [
        " **Cleaning**"
      ],
      "metadata": {
        "id": "_3NHw_k7-HHg"
      }
    },
    {
      "cell_type": "code",
      "source": [
        "\n",
        "\n",
        "def replace_strings(text):\n",
        "    emoji_pattern = re.compile(\"[\"\n",
        "                           u\"\\U0001F600-\\U0001F64F\"  # emoticons\n",
        "                           u\"\\U0001F300-\\U0001F5FF\"  # symbols & pictographs\n",
        "                           u\"\\U0001F680-\\U0001F6FF\"  # transport & map symbols\n",
        "                           u\"\\U0001F1E0-\\U0001F1FF\"  # flags (iOS)\n",
        "                           u\"\\U00002702-\\U000027B0\"\n",
        "                           u\"\\U000024C2-\\U0001F251\"\n",
        "                           u\"\\u00C0-\\u017F\"          #latin\n",
        "                           u\"\\u2000-\\u206F\"          #generalPunctuations\n",
        "\n",
        "                           \"]+\", flags=re.UNICODE)\n",
        "    english_pattern=re.compile('[a-zA-Z0-9]+', flags=re.I)\n",
        "    latin_pattern=re.compile('[A-Za-z\\u00C0-\\u00D6\\u00D8-\\u00f6\\u00f8-\\u00ff\\s]*',)\n",
        "\n",
        "    text=emoji_pattern.sub(r'', text)\n",
        "    text=english_pattern.sub(r'', text)\n",
        "    text=re.sub('\\n',\" \",text)\n",
        "\n",
        "    return text\n",
        "\n",
        "def remove_punctuations(my_str):\n",
        "    # define punctuation\n",
        "    punctuations = '''```\u0012\u0010\u0002\b`\u0007\b£|¢|\u0007Ñ+-*/=EROero৳০১২৩৪৫৬৭৮৯012–34567•89!()-[]{};:'\"“\\’,<>./?@#$%^&*_~‘—॥”‰🤣⚽️✌�৷￰'''\n",
        "\n",
        "    no_punct = \"\"\n",
        "    for char in my_str:\n",
        "        if char not in punctuations:\n",
        "            no_punct = no_punct + char\n",
        "\n",
        "    # display the unpunctuated string except bangla full stop\n",
        "    return no_punct\n",
        "\n",
        "\n",
        "def preprocessing(text):\n",
        "    out=remove_punctuations(replace_strings(text))\n",
        "    return out"
      ],
      "metadata": {
        "id": "q5wUt0e0CQpe"
      },
      "execution_count": 4,
      "outputs": []
    },
    {
      "cell_type": "code",
      "source": [],
      "metadata": {
        "id": "R2wfkSiQ7EGI"
      },
      "execution_count": null,
      "outputs": []
    },
    {
      "cell_type": "code",
      "source": [
        "text=\"\"\"  কিন্তু আমরা তো বিজ্ঞানী নই, বুঝতে পারি নে হঠাৎ অঙ্কের আরম্ভ হয় কোথা থেকে,\n",
        "একেবারে শেষই বা হয় কোন্ খানে। সম্পূর্ণ সংঘটিত বিশ্বকে নিয়ে হঠাৎ কালের আরম্ভ হল আর\n",
        "সদ্যোলুপ্ত বিশ্বের সঙ্গে কালের সম্পূর্ণ অন্ত হবে,আমাদের বুদ্ধিতে এর কিনারা পাই নে। বিজ্ঞানী\n",
        "বলবেন, বুদ্ধির কথা এখানে আসছে না,এ হল গণনার কথা সে গণনা বর্তমান ঘটনাধারার উপরে\n",
        "প্রতিষ্ঠিত এর আদি অন্তে যদি অন্ধকার দেখি তা হলে উপায় নেই।   \"\"\""
      ],
      "metadata": {
        "id": "dtiT3g7jbWGz"
      },
      "execution_count": 5,
      "outputs": []
    },
    {
      "cell_type": "code",
      "source": [
        "text"
      ],
      "metadata": {
        "colab": {
          "base_uri": "https://localhost:8080/",
          "height": 90
        },
        "id": "UbNhIwRb6DUh",
        "outputId": "77b00a2f-dfe9-414c-eaad-c0f3cc5eed55"
      },
      "execution_count": 6,
      "outputs": [
        {
          "output_type": "execute_result",
          "data": {
            "text/plain": [
              "'  কিন্তু আমরা তো বিজ্ঞানী নই, বুঝতে পারি নে হঠাৎ অঙ্কের আরম্ভ হয় কোথা থেকে,\\nএকেবারে শেষই বা হয় কোন্ খানে। সম্পূর্ণ সংঘটিত বিশ্বকে নিয়ে হঠাৎ কালের আরম্ভ হল আর\\nসদ্যোলুপ্ত বিশ্বের সঙ্গে কালের সম্পূর্ণ অন্ত হবে,আমাদের বুদ্ধিতে এর কিনারা পাই নে। বিজ্ঞানী\\nবলবেন, বুদ্ধির কথা এখানে আসছে না,এ হল গণনার কথা সে গণনা বর্তমান ঘটনাধারার উপরে\\nপ্রতিষ্ঠিত এর আদি অন্তে যদি অন্ধকার দেখি তা হলে উপায় নেই।   '"
            ],
            "application/vnd.google.colaboratory.intrinsic+json": {
              "type": "string"
            }
          },
          "metadata": {},
          "execution_count": 6
        }
      ]
    },
    {
      "cell_type": "code",
      "source": [
        "text=preprocessing(text)"
      ],
      "metadata": {
        "id": "261CQq1B7PYo"
      },
      "execution_count": 7,
      "outputs": []
    },
    {
      "cell_type": "code",
      "source": [
        "text"
      ],
      "metadata": {
        "colab": {
          "base_uri": "https://localhost:8080/",
          "height": 90
        },
        "id": "a8qYVxv57vup",
        "outputId": "3c9d6347-e5d1-42a1-faa9-d3236767421a"
      },
      "execution_count": 8,
      "outputs": [
        {
          "output_type": "execute_result",
          "data": {
            "text/plain": [
              "'  কিন্তু আমরা তো বিজ্ঞানী নই বুঝতে পারি নে হঠাৎ অঙ্কের আরম্ভ হয় কোথা থেকে একেবারে শেষই বা হয় কোন্ খানে। সম্পূর্ণ সংঘটিত বিশ্বকে নিয়ে হঠাৎ কালের আরম্ভ হল আর সদ্যোলুপ্ত বিশ্বের সঙ্গে কালের সম্পূর্ণ অন্ত হবেআমাদের বুদ্ধিতে এর কিনারা পাই নে। বিজ্ঞানী বলবেন বুদ্ধির কথা এখানে আসছে নাএ হল গণনার কথা সে গণনা বর্তমান ঘটনাধারার উপরে প্রতিষ্ঠিত এর আদি অন্তে যদি অন্ধকার দেখি তা হলে উপায় নেই।   '"
            ],
            "application/vnd.google.colaboratory.intrinsic+json": {
              "type": "string"
            }
          },
          "metadata": {},
          "execution_count": 8
        }
      ]
    },
    {
      "cell_type": "code",
      "source": [
        "sample=\"\"\"আশ্রমের রূপ ও বিকাশ ২\\nশিলাইদহে পদ্মাতীরে সাহিত্যচর্চা নিয়ে নিভৃতে বাস করতুম। একটা সৃষ্টির সংকল্প নিয়ে সেখান থেকে এলেম শান্তিনিকেতনের প্রান্তরে।\\nতখন আশ্রমের পরিধি ছিল ছোটো।\n",
        " তার দক্ষিণ সীমানায় দীর্ঘ সার-বাঁধা শালগাছ। মাধবীলতা-বিতানে প্রবেশের দ্বার। পিছনে পুব দিকে আমবাগান, পশ্চিম দিকে কোথাও-বা তাল, কোথাও-বা জাম, কোথাও-বা ঝাউ,\n",
        " ইতস্তত গুটিকয়েক নারকেল। উত্তরপশ্চিম প্রান্তে প্রাচীন দুটি ছাতিমের তলায় মার্বেল পাথরে বাঁধানো একটি নিরলংকৃত বেদী। তার সামনে গাছের আড়াল নেই, দিগন্ত পর্যন্ত অবারিত মাঠ, সে মাঠে তখনো চাষ পড়ে নি।\n",
        " উত্তর দিকে আমলকীবনের মধ্যে অতিথিদের জন্যে দোতলা কোঠা আর তারই সংলগ্ন রান্নাবাড়ি প্রাচীন কদম গাছ\"\"\""
      ],
      "metadata": {
        "id": "f10xo8uA8iqW"
      },
      "execution_count": 9,
      "outputs": []
    },
    {
      "cell_type": "code",
      "source": [
        "sample=preprocessing(sample)"
      ],
      "metadata": {
        "id": "G0MvOsGP8ve7"
      },
      "execution_count": 10,
      "outputs": []
    },
    {
      "cell_type": "code",
      "source": [
        "sample"
      ],
      "metadata": {
        "colab": {
          "base_uri": "https://localhost:8080/",
          "height": 107
        },
        "id": "9m8oJfCF87tn",
        "outputId": "31b9bd5f-2dd0-4f21-8793-8e31a99c3fb5"
      },
      "execution_count": 11,
      "outputs": [
        {
          "output_type": "execute_result",
          "data": {
            "text/plain": [
              "'আশ্রমের রূপ ও বিকাশ  শিলাইদহে পদ্মাতীরে সাহিত্যচর্চা নিয়ে নিভৃতে বাস করতুম। একটা সৃষ্টির সংকল্প নিয়ে সেখান থেকে এলেম শান্তিনিকেতনের প্রান্তরে। তখন আশ্রমের পরিধি ছিল ছোটো।  তার দক্ষিণ সীমানায় দীর্ঘ সারবাঁধা শালগাছ। মাধবীলতাবিতানে প্রবেশের দ্বার। পিছনে পুব দিকে আমবাগান পশ্চিম দিকে কোথাওবা তাল কোথাওবা জাম কোথাওবা ঝাউ  ইতস্তত গুটিকয়েক নারকেল। উত্তরপশ্চিম প্রান্তে প্রাচীন দুটি ছাতিমের তলায় মার্বেল পাথরে বাঁধানো একটি নিরলংকৃত বেদী। তার সামনে গাছের আড়াল নেই দিগন্ত পর্যন্ত অবারিত মাঠ সে মাঠে তখনো চাষ পড়ে নি।  উত্তর দিকে আমলকীবনের মধ্যে অতিথিদের জন্যে দোতলা কোঠা আর তারই সংলগ্ন রান্নাবাড়ি প্রাচীন কদম গাছ'"
            ],
            "application/vnd.google.colaboratory.intrinsic+json": {
              "type": "string"
            }
          },
          "metadata": {},
          "execution_count": 11
        }
      ]
    },
    {
      "cell_type": "markdown",
      "source": [
        "**Tokenization**"
      ],
      "metadata": {
        "id": "QELeRzKZDSmb"
      }
    },
    {
      "cell_type": "code",
      "source": [
        "bangla_fullstop= u\"\\u0964\"\n",
        "sentences = text.split(bangla_fullstop)\n",
        "\n",
        "sentences = [sentence.strip()   for sentence in sentences if sentence.strip()]\n",
        "print(sentences)\n",
        "\n",
        "doc=[]\n",
        "for sentence in sentences:\n",
        "    doc += word_tokenize(sentence)\n"
      ],
      "metadata": {
        "colab": {
          "base_uri": "https://localhost:8080/"
        },
        "id": "EV1o5Wn2OxJK",
        "outputId": "7bcf4c9c-0a3b-4096-c795-b4db6290c584"
      },
      "execution_count": 12,
      "outputs": [
        {
          "output_type": "stream",
          "name": "stdout",
          "text": [
            "['কিন্তু আমরা তো বিজ্ঞানী নই বুঝতে পারি নে হঠাৎ অঙ্কের আরম্ভ হয় কোথা থেকে একেবারে শেষই বা হয় কোন্ খানে', 'সম্পূর্ণ সংঘটিত বিশ্বকে নিয়ে হঠাৎ কালের আরম্ভ হল আর সদ্যোলুপ্ত বিশ্বের সঙ্গে কালের সম্পূর্ণ অন্ত হবেআমাদের বুদ্ধিতে এর কিনারা পাই নে', 'বিজ্ঞানী বলবেন বুদ্ধির কথা এখানে আসছে নাএ হল গণনার কথা সে গণনা বর্তমান ঘটনাধারার উপরে প্রতিষ্ঠিত এর আদি অন্তে যদি অন্ধকার দেখি তা হলে উপায় নেই']\n"
          ]
        }
      ]
    },
    {
      "cell_type": "code",
      "source": [
        "print(\"Before Tokenization : \",text ,\"\\n\")\n",
        "print(\"After Tokenization : \", doc)"
      ],
      "metadata": {
        "colab": {
          "base_uri": "https://localhost:8080/"
        },
        "id": "jguFFqpGFDYv",
        "outputId": "07ac1cdb-c2af-4e03-8fec-283e89a409d0"
      },
      "execution_count": 13,
      "outputs": [
        {
          "output_type": "stream",
          "name": "stdout",
          "text": [
            "Before Tokenization :    কিন্তু আমরা তো বিজ্ঞানী নই বুঝতে পারি নে হঠাৎ অঙ্কের আরম্ভ হয় কোথা থেকে একেবারে শেষই বা হয় কোন্ খানে। সম্পূর্ণ সংঘটিত বিশ্বকে নিয়ে হঠাৎ কালের আরম্ভ হল আর সদ্যোলুপ্ত বিশ্বের সঙ্গে কালের সম্পূর্ণ অন্ত হবেআমাদের বুদ্ধিতে এর কিনারা পাই নে। বিজ্ঞানী বলবেন বুদ্ধির কথা এখানে আসছে নাএ হল গণনার কথা সে গণনা বর্তমান ঘটনাধারার উপরে প্রতিষ্ঠিত এর আদি অন্তে যদি অন্ধকার দেখি তা হলে উপায় নেই।    \n",
            "\n",
            "After Tokenization :  ['কিন্তু', 'আমরা', 'তো', 'বিজ্ঞানী', 'নই', 'বুঝতে', 'পারি', 'নে', 'হঠাৎ', 'অঙ্কের', 'আরম্ভ', 'হয়', 'কোথা', 'থেকে', 'একেবারে', 'শেষই', 'বা', 'হয়', 'কোন্', 'খানে', 'সম্পূর্ণ', 'সংঘটিত', 'বিশ্বকে', 'নিয়ে', 'হঠাৎ', 'কালের', 'আরম্ভ', 'হল', 'আর', 'সদ্যোলুপ্ত', 'বিশ্বের', 'সঙ্গে', 'কালের', 'সম্পূর্ণ', 'অন্ত', 'হবেআমাদের', 'বুদ্ধিতে', 'এর', 'কিনারা', 'পাই', 'নে', 'বিজ্ঞানী', 'বলবেন', 'বুদ্ধির', 'কথা', 'এখানে', 'আসছে', 'নাএ', 'হল', 'গণনার', 'কথা', 'সে', 'গণনা', 'বর্তমান', 'ঘটনাধারার', 'উপরে', 'প্রতিষ্ঠিত', 'এর', 'আদি', 'অন্তে', 'যদি', 'অন্ধকার', 'দেখি', 'তা', 'হলে', 'উপায়', 'নেই']\n"
          ]
        }
      ]
    },
    {
      "cell_type": "markdown",
      "source": [
        "**Stop words removal**"
      ],
      "metadata": {
        "id": "qyWVbvZQC_CY"
      }
    },
    {
      "cell_type": "code",
      "source": [
        "data =pd.read_excel('stopwords_bangla.xlsx')\n",
        "stop = data['words'].tolist()"
      ],
      "metadata": {
        "id": "Fz-I-hXrXzbH"
      },
      "execution_count": 14,
      "outputs": []
    },
    {
      "cell_type": "code",
      "source": [
        "data"
      ],
      "metadata": {
        "colab": {
          "base_uri": "https://localhost:8080/",
          "height": 444
        },
        "id": "KrcVi-9s_sBN",
        "outputId": "fffaf5d0-a01e-4ff9-d289-87405fdddcab"
      },
      "execution_count": 15,
      "outputs": [
        {
          "output_type": "execute_result",
          "data": {
            "text/plain": [
              "     Unnamed: 0   words\n",
              "0             0      অই\n",
              "1             1  অগত্যা\n",
              "2             2  অত: পর\n",
              "3             3    অতএব\n",
              "4             4     অথচ\n",
              "..          ...     ...\n",
              "727         727    হয়েই\n",
              "728         728  হয়েছিল\n",
              "729         729   হয়েছে\n",
              "730         730  হয়েছেন\n",
              "731         731     অংশ\n",
              "\n",
              "[732 rows x 2 columns]"
            ],
            "text/html": [
              "\n",
              "  <div id=\"df-4f2be589-ca8c-4d6f-99f4-9780761d142e\" class=\"colab-df-container\">\n",
              "    <div>\n",
              "<style scoped>\n",
              "    .dataframe tbody tr th:only-of-type {\n",
              "        vertical-align: middle;\n",
              "    }\n",
              "\n",
              "    .dataframe tbody tr th {\n",
              "        vertical-align: top;\n",
              "    }\n",
              "\n",
              "    .dataframe thead th {\n",
              "        text-align: right;\n",
              "    }\n",
              "</style>\n",
              "<table border=\"1\" class=\"dataframe\">\n",
              "  <thead>\n",
              "    <tr style=\"text-align: right;\">\n",
              "      <th></th>\n",
              "      <th>Unnamed: 0</th>\n",
              "      <th>words</th>\n",
              "    </tr>\n",
              "  </thead>\n",
              "  <tbody>\n",
              "    <tr>\n",
              "      <th>0</th>\n",
              "      <td>0</td>\n",
              "      <td>অই</td>\n",
              "    </tr>\n",
              "    <tr>\n",
              "      <th>1</th>\n",
              "      <td>1</td>\n",
              "      <td>অগত্যা</td>\n",
              "    </tr>\n",
              "    <tr>\n",
              "      <th>2</th>\n",
              "      <td>2</td>\n",
              "      <td>অত: পর</td>\n",
              "    </tr>\n",
              "    <tr>\n",
              "      <th>3</th>\n",
              "      <td>3</td>\n",
              "      <td>অতএব</td>\n",
              "    </tr>\n",
              "    <tr>\n",
              "      <th>4</th>\n",
              "      <td>4</td>\n",
              "      <td>অথচ</td>\n",
              "    </tr>\n",
              "    <tr>\n",
              "      <th>...</th>\n",
              "      <td>...</td>\n",
              "      <td>...</td>\n",
              "    </tr>\n",
              "    <tr>\n",
              "      <th>727</th>\n",
              "      <td>727</td>\n",
              "      <td>হয়েই</td>\n",
              "    </tr>\n",
              "    <tr>\n",
              "      <th>728</th>\n",
              "      <td>728</td>\n",
              "      <td>হয়েছিল</td>\n",
              "    </tr>\n",
              "    <tr>\n",
              "      <th>729</th>\n",
              "      <td>729</td>\n",
              "      <td>হয়েছে</td>\n",
              "    </tr>\n",
              "    <tr>\n",
              "      <th>730</th>\n",
              "      <td>730</td>\n",
              "      <td>হয়েছেন</td>\n",
              "    </tr>\n",
              "    <tr>\n",
              "      <th>731</th>\n",
              "      <td>731</td>\n",
              "      <td>অংশ</td>\n",
              "    </tr>\n",
              "  </tbody>\n",
              "</table>\n",
              "<p>732 rows × 2 columns</p>\n",
              "</div>\n",
              "    <div class=\"colab-df-buttons\">\n",
              "\n",
              "  <div class=\"colab-df-container\">\n",
              "    <button class=\"colab-df-convert\" onclick=\"convertToInteractive('df-4f2be589-ca8c-4d6f-99f4-9780761d142e')\"\n",
              "            title=\"Convert this dataframe to an interactive table.\"\n",
              "            style=\"display:none;\">\n",
              "\n",
              "  <svg xmlns=\"http://www.w3.org/2000/svg\" height=\"24px\" viewBox=\"0 -960 960 960\">\n",
              "    <path d=\"M120-120v-720h720v720H120Zm60-500h600v-160H180v160Zm220 220h160v-160H400v160Zm0 220h160v-160H400v160ZM180-400h160v-160H180v160Zm440 0h160v-160H620v160ZM180-180h160v-160H180v160Zm440 0h160v-160H620v160Z\"/>\n",
              "  </svg>\n",
              "    </button>\n",
              "\n",
              "  <style>\n",
              "    .colab-df-container {\n",
              "      display:flex;\n",
              "      gap: 12px;\n",
              "    }\n",
              "\n",
              "    .colab-df-convert {\n",
              "      background-color: #E8F0FE;\n",
              "      border: none;\n",
              "      border-radius: 50%;\n",
              "      cursor: pointer;\n",
              "      display: none;\n",
              "      fill: #1967D2;\n",
              "      height: 32px;\n",
              "      padding: 0 0 0 0;\n",
              "      width: 32px;\n",
              "    }\n",
              "\n",
              "    .colab-df-convert:hover {\n",
              "      background-color: #E2EBFA;\n",
              "      box-shadow: 0px 1px 2px rgba(60, 64, 67, 0.3), 0px 1px 3px 1px rgba(60, 64, 67, 0.15);\n",
              "      fill: #174EA6;\n",
              "    }\n",
              "\n",
              "    .colab-df-buttons div {\n",
              "      margin-bottom: 4px;\n",
              "    }\n",
              "\n",
              "    [theme=dark] .colab-df-convert {\n",
              "      background-color: #3B4455;\n",
              "      fill: #D2E3FC;\n",
              "    }\n",
              "\n",
              "    [theme=dark] .colab-df-convert:hover {\n",
              "      background-color: #434B5C;\n",
              "      box-shadow: 0px 1px 3px 1px rgba(0, 0, 0, 0.15);\n",
              "      filter: drop-shadow(0px 1px 2px rgba(0, 0, 0, 0.3));\n",
              "      fill: #FFFFFF;\n",
              "    }\n",
              "  </style>\n",
              "\n",
              "    <script>\n",
              "      const buttonEl =\n",
              "        document.querySelector('#df-4f2be589-ca8c-4d6f-99f4-9780761d142e button.colab-df-convert');\n",
              "      buttonEl.style.display =\n",
              "        google.colab.kernel.accessAllowed ? 'block' : 'none';\n",
              "\n",
              "      async function convertToInteractive(key) {\n",
              "        const element = document.querySelector('#df-4f2be589-ca8c-4d6f-99f4-9780761d142e');\n",
              "        const dataTable =\n",
              "          await google.colab.kernel.invokeFunction('convertToInteractive',\n",
              "                                                    [key], {});\n",
              "        if (!dataTable) return;\n",
              "\n",
              "        const docLinkHtml = 'Like what you see? Visit the ' +\n",
              "          '<a target=\"_blank\" href=https://colab.research.google.com/notebooks/data_table.ipynb>data table notebook</a>'\n",
              "          + ' to learn more about interactive tables.';\n",
              "        element.innerHTML = '';\n",
              "        dataTable['output_type'] = 'display_data';\n",
              "        await google.colab.output.renderOutput(dataTable, element);\n",
              "        const docLink = document.createElement('div');\n",
              "        docLink.innerHTML = docLinkHtml;\n",
              "        element.appendChild(docLink);\n",
              "      }\n",
              "    </script>\n",
              "  </div>\n",
              "\n",
              "\n",
              "<div id=\"df-dead99f6-2f3d-4d42-9e8a-7c0244f64d9a\">\n",
              "  <button class=\"colab-df-quickchart\" onclick=\"quickchart('df-dead99f6-2f3d-4d42-9e8a-7c0244f64d9a')\"\n",
              "            title=\"Suggest charts\"\n",
              "            style=\"display:none;\">\n",
              "\n",
              "<svg xmlns=\"http://www.w3.org/2000/svg\" height=\"24px\"viewBox=\"0 0 24 24\"\n",
              "     width=\"24px\">\n",
              "    <g>\n",
              "        <path d=\"M19 3H5c-1.1 0-2 .9-2 2v14c0 1.1.9 2 2 2h14c1.1 0 2-.9 2-2V5c0-1.1-.9-2-2-2zM9 17H7v-7h2v7zm4 0h-2V7h2v10zm4 0h-2v-4h2v4z\"/>\n",
              "    </g>\n",
              "</svg>\n",
              "  </button>\n",
              "\n",
              "<style>\n",
              "  .colab-df-quickchart {\n",
              "      --bg-color: #E8F0FE;\n",
              "      --fill-color: #1967D2;\n",
              "      --hover-bg-color: #E2EBFA;\n",
              "      --hover-fill-color: #174EA6;\n",
              "      --disabled-fill-color: #AAA;\n",
              "      --disabled-bg-color: #DDD;\n",
              "  }\n",
              "\n",
              "  [theme=dark] .colab-df-quickchart {\n",
              "      --bg-color: #3B4455;\n",
              "      --fill-color: #D2E3FC;\n",
              "      --hover-bg-color: #434B5C;\n",
              "      --hover-fill-color: #FFFFFF;\n",
              "      --disabled-bg-color: #3B4455;\n",
              "      --disabled-fill-color: #666;\n",
              "  }\n",
              "\n",
              "  .colab-df-quickchart {\n",
              "    background-color: var(--bg-color);\n",
              "    border: none;\n",
              "    border-radius: 50%;\n",
              "    cursor: pointer;\n",
              "    display: none;\n",
              "    fill: var(--fill-color);\n",
              "    height: 32px;\n",
              "    padding: 0;\n",
              "    width: 32px;\n",
              "  }\n",
              "\n",
              "  .colab-df-quickchart:hover {\n",
              "    background-color: var(--hover-bg-color);\n",
              "    box-shadow: 0 1px 2px rgba(60, 64, 67, 0.3), 0 1px 3px 1px rgba(60, 64, 67, 0.15);\n",
              "    fill: var(--button-hover-fill-color);\n",
              "  }\n",
              "\n",
              "  .colab-df-quickchart-complete:disabled,\n",
              "  .colab-df-quickchart-complete:disabled:hover {\n",
              "    background-color: var(--disabled-bg-color);\n",
              "    fill: var(--disabled-fill-color);\n",
              "    box-shadow: none;\n",
              "  }\n",
              "\n",
              "  .colab-df-spinner {\n",
              "    border: 2px solid var(--fill-color);\n",
              "    border-color: transparent;\n",
              "    border-bottom-color: var(--fill-color);\n",
              "    animation:\n",
              "      spin 1s steps(1) infinite;\n",
              "  }\n",
              "\n",
              "  @keyframes spin {\n",
              "    0% {\n",
              "      border-color: transparent;\n",
              "      border-bottom-color: var(--fill-color);\n",
              "      border-left-color: var(--fill-color);\n",
              "    }\n",
              "    20% {\n",
              "      border-color: transparent;\n",
              "      border-left-color: var(--fill-color);\n",
              "      border-top-color: var(--fill-color);\n",
              "    }\n",
              "    30% {\n",
              "      border-color: transparent;\n",
              "      border-left-color: var(--fill-color);\n",
              "      border-top-color: var(--fill-color);\n",
              "      border-right-color: var(--fill-color);\n",
              "    }\n",
              "    40% {\n",
              "      border-color: transparent;\n",
              "      border-right-color: var(--fill-color);\n",
              "      border-top-color: var(--fill-color);\n",
              "    }\n",
              "    60% {\n",
              "      border-color: transparent;\n",
              "      border-right-color: var(--fill-color);\n",
              "    }\n",
              "    80% {\n",
              "      border-color: transparent;\n",
              "      border-right-color: var(--fill-color);\n",
              "      border-bottom-color: var(--fill-color);\n",
              "    }\n",
              "    90% {\n",
              "      border-color: transparent;\n",
              "      border-bottom-color: var(--fill-color);\n",
              "    }\n",
              "  }\n",
              "</style>\n",
              "\n",
              "  <script>\n",
              "    async function quickchart(key) {\n",
              "      const quickchartButtonEl =\n",
              "        document.querySelector('#' + key + ' button');\n",
              "      quickchartButtonEl.disabled = true;  // To prevent multiple clicks.\n",
              "      quickchartButtonEl.classList.add('colab-df-spinner');\n",
              "      try {\n",
              "        const charts = await google.colab.kernel.invokeFunction(\n",
              "            'suggestCharts', [key], {});\n",
              "      } catch (error) {\n",
              "        console.error('Error during call to suggestCharts:', error);\n",
              "      }\n",
              "      quickchartButtonEl.classList.remove('colab-df-spinner');\n",
              "      quickchartButtonEl.classList.add('colab-df-quickchart-complete');\n",
              "    }\n",
              "    (() => {\n",
              "      let quickchartButtonEl =\n",
              "        document.querySelector('#df-dead99f6-2f3d-4d42-9e8a-7c0244f64d9a button');\n",
              "      quickchartButtonEl.style.display =\n",
              "        google.colab.kernel.accessAllowed ? 'block' : 'none';\n",
              "    })();\n",
              "  </script>\n",
              "</div>\n",
              "\n",
              "  <div id=\"id_cf40f7d2-ca5e-440c-b619-d4584d6d51ae\">\n",
              "    <style>\n",
              "      .colab-df-generate {\n",
              "        background-color: #E8F0FE;\n",
              "        border: none;\n",
              "        border-radius: 50%;\n",
              "        cursor: pointer;\n",
              "        display: none;\n",
              "        fill: #1967D2;\n",
              "        height: 32px;\n",
              "        padding: 0 0 0 0;\n",
              "        width: 32px;\n",
              "      }\n",
              "\n",
              "      .colab-df-generate:hover {\n",
              "        background-color: #E2EBFA;\n",
              "        box-shadow: 0px 1px 2px rgba(60, 64, 67, 0.3), 0px 1px 3px 1px rgba(60, 64, 67, 0.15);\n",
              "        fill: #174EA6;\n",
              "      }\n",
              "\n",
              "      [theme=dark] .colab-df-generate {\n",
              "        background-color: #3B4455;\n",
              "        fill: #D2E3FC;\n",
              "      }\n",
              "\n",
              "      [theme=dark] .colab-df-generate:hover {\n",
              "        background-color: #434B5C;\n",
              "        box-shadow: 0px 1px 3px 1px rgba(0, 0, 0, 0.15);\n",
              "        filter: drop-shadow(0px 1px 2px rgba(0, 0, 0, 0.3));\n",
              "        fill: #FFFFFF;\n",
              "      }\n",
              "    </style>\n",
              "    <button class=\"colab-df-generate\" onclick=\"generateWithVariable('data')\"\n",
              "            title=\"Generate code using this dataframe.\"\n",
              "            style=\"display:none;\">\n",
              "\n",
              "  <svg xmlns=\"http://www.w3.org/2000/svg\" height=\"24px\"viewBox=\"0 0 24 24\"\n",
              "       width=\"24px\">\n",
              "    <path d=\"M7,19H8.4L18.45,9,17,7.55,7,17.6ZM5,21V16.75L18.45,3.32a2,2,0,0,1,2.83,0l1.4,1.43a1.91,1.91,0,0,1,.58,1.4,1.91,1.91,0,0,1-.58,1.4L9.25,21ZM18.45,9,17,7.55Zm-12,3A5.31,5.31,0,0,0,4.9,8.1,5.31,5.31,0,0,0,1,6.5,5.31,5.31,0,0,0,4.9,4.9,5.31,5.31,0,0,0,6.5,1,5.31,5.31,0,0,0,8.1,4.9,5.31,5.31,0,0,0,12,6.5,5.46,5.46,0,0,0,6.5,12Z\"/>\n",
              "  </svg>\n",
              "    </button>\n",
              "    <script>\n",
              "      (() => {\n",
              "      const buttonEl =\n",
              "        document.querySelector('#id_cf40f7d2-ca5e-440c-b619-d4584d6d51ae button.colab-df-generate');\n",
              "      buttonEl.style.display =\n",
              "        google.colab.kernel.accessAllowed ? 'block' : 'none';\n",
              "\n",
              "      buttonEl.onclick = () => {\n",
              "        google.colab.notebook.generateWithVariable('data');\n",
              "      }\n",
              "      })();\n",
              "    </script>\n",
              "  </div>\n",
              "\n",
              "    </div>\n",
              "  </div>\n"
            ],
            "application/vnd.google.colaboratory.intrinsic+json": {
              "type": "dataframe",
              "variable_name": "data",
              "summary": "{\n  \"name\": \"data\",\n  \"rows\": 732,\n  \"fields\": [\n    {\n      \"column\": \"Unnamed: 0\",\n      \"properties\": {\n        \"dtype\": \"number\",\n        \"std\": 211,\n        \"min\": 0,\n        \"max\": 731,\n        \"num_unique_values\": 732,\n        \"samples\": [\n          604,\n          33,\n          300\n        ],\n        \"semantic_type\": \"\",\n        \"description\": \"\"\n      }\n    },\n    {\n      \"column\": \"words\",\n      \"properties\": {\n        \"dtype\": \"string\",\n        \"num_unique_values\": 731,\n        \"samples\": [\n          \"\\u09b9\\u09af\\u09bc\",\n          \"\\u0985\\u09b0\\u09cd\\u09a5\\u09be\\u09a4\",\n          \"\\u09a4\\u09ac\\u09c7\"\n        ],\n        \"semantic_type\": \"\",\n        \"description\": \"\"\n      }\n    }\n  ]\n}"
            }
          },
          "metadata": {},
          "execution_count": 15
        }
      ]
    },
    {
      "cell_type": "markdown",
      "source": [],
      "metadata": {
        "id": "H5oik-yAA6_0"
      }
    },
    {
      "cell_type": "code",
      "source": [
        "def stopwordRemoval(doc):\n",
        "\n",
        "    stm=[elem for elem in doc if elem not in stop]\n",
        "    out=' '.join(stm)\n",
        "    doc=[]\n",
        "    doc += word_tokenize(out)\n",
        "    return doc"
      ],
      "metadata": {
        "id": "nh2em_4kYx8v"
      },
      "execution_count": 16,
      "outputs": []
    },
    {
      "cell_type": "code",
      "source": [
        "print(doc)"
      ],
      "metadata": {
        "colab": {
          "base_uri": "https://localhost:8080/"
        },
        "id": "CaadM4nOAm7Q",
        "outputId": "c91db260-1b0b-4f86-9144-fbc4a37f5571"
      },
      "execution_count": 17,
      "outputs": [
        {
          "output_type": "stream",
          "name": "stdout",
          "text": [
            "['কিন্তু', 'আমরা', 'তো', 'বিজ্ঞানী', 'নই', 'বুঝতে', 'পারি', 'নে', 'হঠাৎ', 'অঙ্কের', 'আরম্ভ', 'হয়', 'কোথা', 'থেকে', 'একেবারে', 'শেষই', 'বা', 'হয়', 'কোন্', 'খানে', 'সম্পূর্ণ', 'সংঘটিত', 'বিশ্বকে', 'নিয়ে', 'হঠাৎ', 'কালের', 'আরম্ভ', 'হল', 'আর', 'সদ্যোলুপ্ত', 'বিশ্বের', 'সঙ্গে', 'কালের', 'সম্পূর্ণ', 'অন্ত', 'হবেআমাদের', 'বুদ্ধিতে', 'এর', 'কিনারা', 'পাই', 'নে', 'বিজ্ঞানী', 'বলবেন', 'বুদ্ধির', 'কথা', 'এখানে', 'আসছে', 'নাএ', 'হল', 'গণনার', 'কথা', 'সে', 'গণনা', 'বর্তমান', 'ঘটনাধারার', 'উপরে', 'প্রতিষ্ঠিত', 'এর', 'আদি', 'অন্তে', 'যদি', 'অন্ধকার', 'দেখি', 'তা', 'হলে', 'উপায়', 'নেই']\n"
          ]
        }
      ]
    },
    {
      "cell_type": "code",
      "source": [
        "doc=stopwordRemoval(doc)"
      ],
      "metadata": {
        "id": "5KJf_cd3XcI5"
      },
      "execution_count": 18,
      "outputs": []
    },
    {
      "cell_type": "code",
      "source": [
        "print(doc)"
      ],
      "metadata": {
        "colab": {
          "base_uri": "https://localhost:8080/"
        },
        "id": "qZos0jrKAMnk",
        "outputId": "f6ed5072-b456-42e6-e464-7f89879fe836"
      },
      "execution_count": 19,
      "outputs": [
        {
          "output_type": "stream",
          "name": "stdout",
          "text": [
            "['বিজ্ঞানী', 'নই', 'বুঝতে', 'নে', 'হঠাৎ', 'অঙ্কের', 'আরম্ভ', 'একেবারে', 'শেষই', 'কোন্', 'খানে', 'সম্পূর্ণ', 'সংঘটিত', 'বিশ্বকে', 'হঠাৎ', 'কালের', 'আরম্ভ', 'সদ্যোলুপ্ত', 'বিশ্বের', 'কালের', 'সম্পূর্ণ', 'অন্ত', 'হবেআমাদের', 'বুদ্ধিতে', 'কিনারা', 'পাই', 'নে', 'বিজ্ঞানী', 'বলবেন', 'বুদ্ধির', 'কথা', 'আসছে', 'নাএ', 'গণনার', 'কথা', 'গণনা', 'ঘটনাধারার', 'প্রতিষ্ঠিত', 'আদি', 'অন্তে', 'অন্ধকার', 'দেখি', 'উপায়']\n"
          ]
        }
      ]
    },
    {
      "cell_type": "markdown",
      "source": [
        "**Stemming**"
      ],
      "metadata": {
        "id": "yw7g_RRjbMWw"
      }
    },
    {
      "cell_type": "code",
      "source": [
        "!pip install bangla-stemmer\n",
        "from bangla_stemmer.stemmer import stemmer\n",
        "## stemmer function\n",
        "def stem_text (x):\n",
        "  stmr = stemmer.BanglaStemmer()\n",
        "  #words=x.split(' ')\n",
        "  stm = stmr.stem(doc)\n",
        "  words=(' ').join(stm)\n",
        "  out=[]\n",
        "  out += word_tokenize(words)\n",
        "  return out"
      ],
      "metadata": {
        "colab": {
          "base_uri": "https://localhost:8080/"
        },
        "id": "vXtbACU9AZOr",
        "outputId": "af2cf69b-d507-4ff9-defc-fcb38041d232"
      },
      "execution_count": 20,
      "outputs": [
        {
          "output_type": "stream",
          "name": "stdout",
          "text": [
            "Collecting bangla-stemmer\n",
            "  Downloading bangla_stemmer-1.0-py3-none-any.whl.metadata (2.4 kB)\n",
            "Downloading bangla_stemmer-1.0-py3-none-any.whl (9.1 kB)\n",
            "Installing collected packages: bangla-stemmer\n",
            "Successfully installed bangla-stemmer-1.0\n"
          ]
        }
      ]
    },
    {
      "cell_type": "code",
      "source": [
        "print(doc)\n",
        "print(stem_text(doc))\n"
      ],
      "metadata": {
        "colab": {
          "base_uri": "https://localhost:8080/"
        },
        "id": "Z7SaH0h9CyML",
        "outputId": "4b9b5606-2e69-4081-84f3-94f5257c8cf6"
      },
      "execution_count": 21,
      "outputs": [
        {
          "output_type": "stream",
          "name": "stdout",
          "text": [
            "['বিজ্ঞানী', 'নই', 'বুঝতে', 'নে', 'হঠাৎ', 'অঙ্কের', 'আরম্ভ', 'একেবারে', 'শেষই', 'কোন্', 'খানে', 'সম্পূর্ণ', 'সংঘটিত', 'বিশ্বকে', 'হঠাৎ', 'কালের', 'আরম্ভ', 'সদ্যোলুপ্ত', 'বিশ্বের', 'কালের', 'সম্পূর্ণ', 'অন্ত', 'হবেআমাদের', 'বুদ্ধিতে', 'কিনারা', 'পাই', 'নে', 'বিজ্ঞানী', 'বলবেন', 'বুদ্ধির', 'কথা', 'আসছে', 'নাএ', 'গণনার', 'কথা', 'গণনা', 'ঘটনাধারার', 'প্রতিষ্ঠিত', 'আদি', 'অন্তে', 'অন্ধকার', 'দেখি', 'উপায়']\n",
            "applied first rules..\n",
            "applied first rules..\n",
            "applied first rules..\n",
            "applied fourth rules..\n",
            "applied first rules..\n",
            "applied fourth rules..\n",
            "applied first rules..\n",
            "applied fourth rules..\n",
            "applied first rules..\n",
            "applied fourth rules..\n",
            "applied fourth rules..\n",
            "applied fourth rules..\n",
            "applied fourth rules..\n",
            "applied first rules..\n",
            "applied first rules..\n",
            "applied first rules..\n",
            "applied fourth rules..\n",
            "applied second rules..\n",
            "applied fourth rules..\n",
            "applied first rules..\n",
            "applied fourth rules..\n",
            "applied first rules..\n",
            "applied fourth rules..\n",
            "['বিজ্ঞানী', 'নই', 'বুঝ', 'নে', 'হঠাৎ', 'অঙ্ক', 'আরম্ভ', 'একেবারে', 'শেষ', 'কোন্', 'খানে', 'সম্পূর্ণ', 'সংঘটিত', 'বিশ্ব', 'হঠাৎ', 'কাল', 'আরম্ভ', 'সদ্যোলুপ্ত', 'বিশ্ব', 'কাল', 'সম্পূর্ণ', 'অন্ত', 'হবেআমা', 'বুদ্ধি', 'কিনা', 'পাই', 'নে', 'বিজ্ঞানী', 'বল', 'বুদ্ধির', 'কথা', 'আস', 'নাএ', 'গণন', 'কথা', 'গণনা', 'ঘটন', 'প্রতিষ্ঠিত', 'আদি', 'অন্', 'অন্ধক', 'দেখি', 'উপায়']\n"
          ]
        }
      ]
    },
    {
      "cell_type": "code",
      "source": [
        "from nltk import bigrams,trigrams\n",
        "from collections import Counter\n",
        "unigram_count=Counter(doc)\n",
        "bigram_list = list(bigrams(doc))\n",
        "bigram_count=Counter(bigram_list)\n",
        "trigram_list=list(trigrams(doc))\n",
        "trigram_count=Counter(trigram_list)"
      ],
      "metadata": {
        "id": "uqHYQDb1aW5d"
      },
      "execution_count": 22,
      "outputs": []
    },
    {
      "cell_type": "code",
      "source": [
        "print(\"Unigram Counts: \")\n",
        "print(unigram_count)\n",
        "print(\"\\nBigram Counts: \")\n",
        "print(bigram_count)\n",
        "print(\"\\nTrigram Counts\")\n",
        "print(trigram_count)"
      ],
      "metadata": {
        "colab": {
          "base_uri": "https://localhost:8080/"
        },
        "id": "ZGWs7XUo6yP5",
        "outputId": "e0cdd9db-6c02-4da5-9421-527dcca283b9"
      },
      "execution_count": 23,
      "outputs": [
        {
          "output_type": "stream",
          "name": "stdout",
          "text": [
            "Unigram Counts: \n",
            "Counter({'বিজ্ঞানী': 2, 'নে': 2, 'হঠাৎ': 2, 'আরম্ভ': 2, 'সম্পূর্ণ': 2, 'কালের': 2, 'কথা': 2, 'নই': 1, 'বুঝতে': 1, 'অঙ্কের': 1, 'একেবারে': 1, 'শেষই': 1, 'কোন্': 1, 'খানে': 1, 'সংঘটিত': 1, 'বিশ্বকে': 1, 'সদ্যোলুপ্ত': 1, 'বিশ্বের': 1, 'অন্ত': 1, 'হবেআমাদের': 1, 'বুদ্ধিতে': 1, 'কিনারা': 1, 'পাই': 1, 'বলবেন': 1, 'বুদ্ধির': 1, 'আসছে': 1, 'নাএ': 1, 'গণনার': 1, 'গণনা': 1, 'ঘটনাধারার': 1, 'প্রতিষ্ঠিত': 1, 'আদি': 1, 'অন্তে': 1, 'অন্ধকার': 1, 'দেখি': 1, 'উপায়': 1})\n",
            "\n",
            "Bigram Counts: \n",
            "Counter({('বিজ্ঞানী', 'নই'): 1, ('নই', 'বুঝতে'): 1, ('বুঝতে', 'নে'): 1, ('নে', 'হঠাৎ'): 1, ('হঠাৎ', 'অঙ্কের'): 1, ('অঙ্কের', 'আরম্ভ'): 1, ('আরম্ভ', 'একেবারে'): 1, ('একেবারে', 'শেষই'): 1, ('শেষই', 'কোন্'): 1, ('কোন্', 'খানে'): 1, ('খানে', 'সম্পূর্ণ'): 1, ('সম্পূর্ণ', 'সংঘটিত'): 1, ('সংঘটিত', 'বিশ্বকে'): 1, ('বিশ্বকে', 'হঠাৎ'): 1, ('হঠাৎ', 'কালের'): 1, ('কালের', 'আরম্ভ'): 1, ('আরম্ভ', 'সদ্যোলুপ্ত'): 1, ('সদ্যোলুপ্ত', 'বিশ্বের'): 1, ('বিশ্বের', 'কালের'): 1, ('কালের', 'সম্পূর্ণ'): 1, ('সম্পূর্ণ', 'অন্ত'): 1, ('অন্ত', 'হবেআমাদের'): 1, ('হবেআমাদের', 'বুদ্ধিতে'): 1, ('বুদ্ধিতে', 'কিনারা'): 1, ('কিনারা', 'পাই'): 1, ('পাই', 'নে'): 1, ('নে', 'বিজ্ঞানী'): 1, ('বিজ্ঞানী', 'বলবেন'): 1, ('বলবেন', 'বুদ্ধির'): 1, ('বুদ্ধির', 'কথা'): 1, ('কথা', 'আসছে'): 1, ('আসছে', 'নাএ'): 1, ('নাএ', 'গণনার'): 1, ('গণনার', 'কথা'): 1, ('কথা', 'গণনা'): 1, ('গণনা', 'ঘটনাধারার'): 1, ('ঘটনাধারার', 'প্রতিষ্ঠিত'): 1, ('প্রতিষ্ঠিত', 'আদি'): 1, ('আদি', 'অন্তে'): 1, ('অন্তে', 'অন্ধকার'): 1, ('অন্ধকার', 'দেখি'): 1, ('দেখি', 'উপায়'): 1})\n",
            "\n",
            "Trigram Counts\n",
            "Counter({('বিজ্ঞানী', 'নই', 'বুঝতে'): 1, ('নই', 'বুঝতে', 'নে'): 1, ('বুঝতে', 'নে', 'হঠাৎ'): 1, ('নে', 'হঠাৎ', 'অঙ্কের'): 1, ('হঠাৎ', 'অঙ্কের', 'আরম্ভ'): 1, ('অঙ্কের', 'আরম্ভ', 'একেবারে'): 1, ('আরম্ভ', 'একেবারে', 'শেষই'): 1, ('একেবারে', 'শেষই', 'কোন্'): 1, ('শেষই', 'কোন্', 'খানে'): 1, ('কোন্', 'খানে', 'সম্পূর্ণ'): 1, ('খানে', 'সম্পূর্ণ', 'সংঘটিত'): 1, ('সম্পূর্ণ', 'সংঘটিত', 'বিশ্বকে'): 1, ('সংঘটিত', 'বিশ্বকে', 'হঠাৎ'): 1, ('বিশ্বকে', 'হঠাৎ', 'কালের'): 1, ('হঠাৎ', 'কালের', 'আরম্ভ'): 1, ('কালের', 'আরম্ভ', 'সদ্যোলুপ্ত'): 1, ('আরম্ভ', 'সদ্যোলুপ্ত', 'বিশ্বের'): 1, ('সদ্যোলুপ্ত', 'বিশ্বের', 'কালের'): 1, ('বিশ্বের', 'কালের', 'সম্পূর্ণ'): 1, ('কালের', 'সম্পূর্ণ', 'অন্ত'): 1, ('সম্পূর্ণ', 'অন্ত', 'হবেআমাদের'): 1, ('অন্ত', 'হবেআমাদের', 'বুদ্ধিতে'): 1, ('হবেআমাদের', 'বুদ্ধিতে', 'কিনারা'): 1, ('বুদ্ধিতে', 'কিনারা', 'পাই'): 1, ('কিনারা', 'পাই', 'নে'): 1, ('পাই', 'নে', 'বিজ্ঞানী'): 1, ('নে', 'বিজ্ঞানী', 'বলবেন'): 1, ('বিজ্ঞানী', 'বলবেন', 'বুদ্ধির'): 1, ('বলবেন', 'বুদ্ধির', 'কথা'): 1, ('বুদ্ধির', 'কথা', 'আসছে'): 1, ('কথা', 'আসছে', 'নাএ'): 1, ('আসছে', 'নাএ', 'গণনার'): 1, ('নাএ', 'গণনার', 'কথা'): 1, ('গণনার', 'কথা', 'গণনা'): 1, ('কথা', 'গণনা', 'ঘটনাধারার'): 1, ('গণনা', 'ঘটনাধারার', 'প্রতিষ্ঠিত'): 1, ('ঘটনাধারার', 'প্রতিষ্ঠিত', 'আদি'): 1, ('প্রতিষ্ঠিত', 'আদি', 'অন্তে'): 1, ('আদি', 'অন্তে', 'অন্ধকার'): 1, ('অন্তে', 'অন্ধকার', 'দেখি'): 1, ('অন্ধকার', 'দেখি', 'উপায়'): 1})\n"
          ]
        }
      ]
    },
    {
      "cell_type": "code",
      "source": [
        "unigram_df = pd.DataFrame(unigram_count.items(), columns=['Unigram', 'Count'])\n",
        "bigram_df = pd.DataFrame(bigram_count.items(), columns=['Bigram', 'Count'])\n",
        "trigram_df = pd.DataFrame(trigram_count.items(), columns=['Trigram', 'Count'])\n",
        "\n",
        "# Display the tables\n",
        "print(\"Unigram Counts:\")\n",
        "print(unigram_df)\n",
        "\n",
        "print(\"\\nBigram Counts:\")\n",
        "print(bigram_df)\n",
        "\n",
        "print(\"\\nTrigram Counts:\")\n",
        "print(trigram_df)"
      ],
      "metadata": {
        "colab": {
          "base_uri": "https://localhost:8080/"
        },
        "id": "7SGq8Cey-za8",
        "outputId": "d649ffb8-d30d-45e4-a536-2f9533ea7789"
      },
      "execution_count": 24,
      "outputs": [
        {
          "output_type": "stream",
          "name": "stdout",
          "text": [
            "Unigram Counts:\n",
            "       Unigram  Count\n",
            "0     বিজ্ঞানী      2\n",
            "1           নই      1\n",
            "2        বুঝতে      1\n",
            "3           নে      2\n",
            "4         হঠাৎ      2\n",
            "5       অঙ্কের      1\n",
            "6        আরম্ভ      2\n",
            "7      একেবারে      1\n",
            "8         শেষই      1\n",
            "9         কোন্      1\n",
            "10        খানে      1\n",
            "11    সম্পূর্ণ      2\n",
            "12      সংঘটিত      1\n",
            "13     বিশ্বকে      1\n",
            "14       কালের      2\n",
            "15  সদ্যোলুপ্ত      1\n",
            "16     বিশ্বের      1\n",
            "17        অন্ত      1\n",
            "18   হবেআমাদের      1\n",
            "19    বুদ্ধিতে      1\n",
            "20      কিনারা      1\n",
            "21         পাই      1\n",
            "22       বলবেন      1\n",
            "23     বুদ্ধির      1\n",
            "24         কথা      2\n",
            "25        আসছে      1\n",
            "26         নাএ      1\n",
            "27       গণনার      1\n",
            "28        গণনা      1\n",
            "29   ঘটনাধারার      1\n",
            "30  প্রতিষ্ঠিত      1\n",
            "31         আদি      1\n",
            "32       অন্তে      1\n",
            "33     অন্ধকার      1\n",
            "34        দেখি      1\n",
            "35        উপায়      1\n",
            "\n",
            "Bigram Counts:\n",
            "                     Bigram  Count\n",
            "0            (বিজ্ঞানী, নই)      1\n",
            "1               (নই, বুঝতে)      1\n",
            "2               (বুঝতে, নে)      1\n",
            "3                (নে, হঠাৎ)      1\n",
            "4            (হঠাৎ, অঙ্কের)      1\n",
            "5           (অঙ্কের, আরম্ভ)      1\n",
            "6          (আরম্ভ, একেবারে)      1\n",
            "7           (একেবারে, শেষই)      1\n",
            "8              (শেষই, কোন্)      1\n",
            "9              (কোন্, খানে)      1\n",
            "10         (খানে, সম্পূর্ণ)      1\n",
            "11       (সম্পূর্ণ, সংঘটিত)      1\n",
            "12        (সংঘটিত, বিশ্বকে)      1\n",
            "13          (বিশ্বকে, হঠাৎ)      1\n",
            "14            (হঠাৎ, কালের)      1\n",
            "15           (কালের, আরম্ভ)      1\n",
            "16      (আরম্ভ, সদ্যোলুপ্ত)      1\n",
            "17    (সদ্যোলুপ্ত, বিশ্বের)      1\n",
            "18         (বিশ্বের, কালের)      1\n",
            "19        (কালের, সম্পূর্ণ)      1\n",
            "20         (সম্পূর্ণ, অন্ত)      1\n",
            "21        (অন্ত, হবেআমাদের)      1\n",
            "22    (হবেআমাদের, বুদ্ধিতে)      1\n",
            "23       (বুদ্ধিতে, কিনারা)      1\n",
            "24            (কিনারা, পাই)      1\n",
            "25                (পাই, নে)      1\n",
            "26           (নে, বিজ্ঞানী)      1\n",
            "27        (বিজ্ঞানী, বলবেন)      1\n",
            "28         (বলবেন, বুদ্ধির)      1\n",
            "29           (বুদ্ধির, কথা)      1\n",
            "30              (কথা, আসছে)      1\n",
            "31              (আসছে, নাএ)      1\n",
            "32             (নাএ, গণনার)      1\n",
            "33             (গণনার, কথা)      1\n",
            "34              (কথা, গণনা)      1\n",
            "35        (গণনা, ঘটনাধারার)      1\n",
            "36  (ঘটনাধারার, প্রতিষ্ঠিত)      1\n",
            "37        (প্রতিষ্ঠিত, আদি)      1\n",
            "38             (আদি, অন্তে)      1\n",
            "39         (অন্তে, অন্ধকার)      1\n",
            "40          (অন্ধকার, দেখি)      1\n",
            "41             (দেখি, উপায়)      1\n",
            "\n",
            "Trigram Counts:\n",
            "                          Trigram  Count\n",
            "0           (বিজ্ঞানী, নই, বুঝতে)      1\n",
            "1                 (নই, বুঝতে, নে)      1\n",
            "2               (বুঝতে, নে, হঠাৎ)      1\n",
            "3              (নে, হঠাৎ, অঙ্কের)      1\n",
            "4           (হঠাৎ, অঙ্কের, আরম্ভ)      1\n",
            "5        (অঙ্কের, আরম্ভ, একেবারে)      1\n",
            "6          (আরম্ভ, একেবারে, শেষই)      1\n",
            "7           (একেবারে, শেষই, কোন্)      1\n",
            "8              (শেষই, কোন্, খানে)      1\n",
            "9          (কোন্, খানে, সম্পূর্ণ)      1\n",
            "10       (খানে, সম্পূর্ণ, সংঘটিত)      1\n",
            "11    (সম্পূর্ণ, সংঘটিত, বিশ্বকে)      1\n",
            "12        (সংঘটিত, বিশ্বকে, হঠাৎ)      1\n",
            "13         (বিশ্বকে, হঠাৎ, কালের)      1\n",
            "14           (হঠাৎ, কালের, আরম্ভ)      1\n",
            "15     (কালের, আরম্ভ, সদ্যোলুপ্ত)      1\n",
            "16   (আরম্ভ, সদ্যোলুপ্ত, বিশ্বের)      1\n",
            "17   (সদ্যোলুপ্ত, বিশ্বের, কালের)      1\n",
            "18     (বিশ্বের, কালের, সম্পূর্ণ)      1\n",
            "19        (কালের, সম্পূর্ণ, অন্ত)      1\n",
            "20    (সম্পূর্ণ, অন্ত, হবেআমাদের)      1\n",
            "21    (অন্ত, হবেআমাদের, বুদ্ধিতে)      1\n",
            "22  (হবেআমাদের, বুদ্ধিতে, কিনারা)      1\n",
            "23        (বুদ্ধিতে, কিনারা, পাই)      1\n",
            "24              (কিনারা, পাই, নে)      1\n",
            "25            (পাই, নে, বিজ্ঞানী)      1\n",
            "26          (নে, বিজ্ঞানী, বলবেন)      1\n",
            "27     (বিজ্ঞানী, বলবেন, বুদ্ধির)      1\n",
            "28          (বলবেন, বুদ্ধির, কথা)      1\n",
            "29           (বুদ্ধির, কথা, আসছে)      1\n",
            "30               (কথা, আসছে, নাএ)      1\n",
            "31             (আসছে, নাএ, গণনার)      1\n",
            "32              (নাএ, গণনার, কথা)      1\n",
            "33             (গণনার, কথা, গণনা)      1\n",
            "34         (কথা, গণনা, ঘটনাধারার)      1\n",
            "35  (গণনা, ঘটনাধারার, প্রতিষ্ঠিত)      1\n",
            "36   (ঘটনাধারার, প্রতিষ্ঠিত, আদি)      1\n",
            "37       (প্রতিষ্ঠিত, আদি, অন্তে)      1\n",
            "38          (আদি, অন্তে, অন্ধকার)      1\n",
            "39         (অন্তে, অন্ধকার, দেখি)      1\n",
            "40          (অন্ধকার, দেখি, উপায়)      1\n"
          ]
        }
      ]
    },
    {
      "cell_type": "code",
      "source": [],
      "metadata": {
        "id": "4IZrU_dDAcfH"
      },
      "execution_count": null,
      "outputs": []
    }
  ]
}